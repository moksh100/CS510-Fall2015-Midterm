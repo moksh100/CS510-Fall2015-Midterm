{
 "cells": [
  {
   "cell_type": "markdown",
   "metadata": {},
   "source": [
    "# Mid-term project\n",
    "## Georgy Mokshantsev"
   ]
  },
  {
   "cell_type": "code",
   "execution_count": 6,
   "metadata": {
    "collapsed": false
   },
   "outputs": [
    {
     "ename": "IndentationError",
     "evalue": "unindent does not match any outer indentation level (attractor.py, line 32)",
     "output_type": "error",
     "traceback": [
      "\u001b[1;36m  File \u001b[1;32m\"attractor.py\"\u001b[1;36m, line \u001b[1;32m32\u001b[0m\n\u001b[1;33m    dt=self.dt/2\u001b[0m\n\u001b[1;37m                ^\u001b[0m\n\u001b[1;31mIndentationError\u001b[0m\u001b[1;31m:\u001b[0m unindent does not match any outer indentation level\n"
     ]
    }
   ],
   "source": [
    "import attractor\n",
    "import numpy as np\n",
    "%matplotlib inline\n",
    "x=attractor.Attractor()"
   ]
  },
  {
   "cell_type": "markdown",
   "metadata": {
    "collapsed": true
   },
   "source": [
    "How does the plotted solution depend on your choice of time step size, and your choice of increment?  Do you see an improvement in precision from using the higher-order integration methods?"
   ]
  },
  {
   "cell_type": "code",
   "execution_count": 20,
   "metadata": {
    "collapsed": false
   },
   "outputs": [],
   "source": [
    "x.evolve(order=4)\n",
    "x.plotx()\n",
    "x.evolve(order=3)\n",
    "x.plotx()\n",
    "x.evolve(order=2)\n",
    "x.plotx()\n",
    "x.evolve(order=1)\n",
    "x.plotx()"
   ]
  },
  {
   "cell_type": "code",
   "execution_count": 26,
   "metadata": {
    "collapsed": false
   },
   "outputs": [],
   "source": [
    "x=attractor.Attractor(points=100)\n",
    "x.evolve(order=4)\n",
    "x.plotx()\n",
    "x.evolve(order=3)\n",
    "x.plotx()\n",
    "x.evolve(order=2)\n",
    "x.plotx()\n",
    "x.evolve(order=1)\n",
    "x.plotx()"
   ]
  },
  {
   "cell_type": "code",
   "execution_count": 21,
   "metadata": {
    "collapsed": false
   },
   "outputs": [],
   "source": [
    "x=attractor.Attractor()\n",
    "x.evolve(order=4)\n",
    "x.ploty()\n",
    "x.evolve(order=3)\n",
    "x.ploty()\n",
    "x.evolve(order=2)\n",
    "x.ploty()\n",
    "x.evolve(order=1)\n",
    "x.ploty()"
   ]
  },
  {
   "cell_type": "code",
   "execution_count": 22,
   "metadata": {
    "collapsed": false
   },
   "outputs": [],
   "source": [
    "x.evolve(order=4)\n",
    "x.plotz()\n",
    "x.evolve(order=3)\n",
    "x.plotz()\n",
    "x.evolve(order=2)\n",
    "x.plotz()\n",
    "x.evolve(order=1)\n",
    "x.plotz()\n"
   ]
  },
  {
   "cell_type": "code",
   "execution_count": 23,
   "metadata": {
    "collapsed": false
   },
   "outputs": [],
   "source": [
    "x.evolve(order=4)\n",
    "x.plot3d()\n",
    "x.evolve(order=3)\n",
    "x.plot3d()\n",
    "x.evolve(order=2)\n",
    "x.plot3d()\n",
    "x.evolve(order=1)\n",
    "x.plot3d()\n"
   ]
  },
  {
   "cell_type": "markdown",
   "metadata": {},
   "source": [
    "4th-Order Runge-Kutta gives us more details. Decrease number of points gives us invalid results, increasing number of point gives us more more precision graph."
   ]
  },
  {
   "cell_type": "markdown",
   "metadata": {},
   "source": [
    "How does the solution depend upon the initial conditions [x0, y0, z0]?  How small a change can you make while still reproducing roughly the same dynamical curves?"
   ]
  },
  {
   "cell_type": "code",
   "execution_count": 29,
   "metadata": {
    "collapsed": false
   },
   "outputs": [],
   "source": [
    "x.evolve(np.array([0.1, 1.0, 2.0]), order=4)\n",
    "x.plotx()\n",
    "x.evolve(np.array([1, 1.6, 2.6]), order=4)\n",
    "x.plotx()"
   ]
  },
  {
   "cell_type": "code",
   "execution_count": 30,
   "metadata": {
    "collapsed": false
   },
   "outputs": [],
   "source": [
    "x.evolve(np.array([0.1, 1.0, 2.0]), order=4)\n",
    "x.ploty()\n",
    "x.evolve(np.array([1, 1.6, 2.6]), order=4)\n",
    "x.ploty()\n"
   ]
  },
  {
   "cell_type": "code",
   "execution_count": 31,
   "metadata": {
    "collapsed": false
   },
   "outputs": [],
   "source": [
    "x.evolve(np.array([0.1, 1.0, 2.0]), order=4)\n",
    "x.plotz()\n",
    "x.evolve(np.array([1, 1.6, 2.6]), order=4)\n",
    "x.plotz()\n"
   ]
  },
  {
   "cell_type": "code",
   "execution_count": 32,
   "metadata": {
    "collapsed": false
   },
   "outputs": [],
   "source": [
    "x.evolve(np.array([0.1, 1.0, 2.0]), order=4)\n",
    "x.plot3d()\n",
    "x.evolve(np.array([1, 1.6, 2.6]), order=4)\n",
    "x.plot3d()"
   ]
  },
  {
   "cell_type": "code",
   "execution_count": 92,
   "metadata": {
    "collapsed": false
   },
   "outputs": [],
   "source": [
    "x.evolve(np.array([0.1, 1.0, 2.0]), order=3)\n",
    "x.plotx()\n"
   ]
  },
  {
   "cell_type": "code",
   "execution_count": 93,
   "metadata": {
    "collapsed": false
   },
   "outputs": [],
   "source": [
    "x.ploty()"
   ]
  },
  {
   "cell_type": "code",
   "execution_count": 94,
   "metadata": {
    "collapsed": false
   },
   "outputs": [],
   "source": [
    "x.plotz()"
   ]
  },
  {
   "cell_type": "code",
   "execution_count": 95,
   "metadata": {
    "collapsed": false
   },
   "outputs": [],
   "source": [
    "x.plot3d()"
   ]
  },
  {
   "cell_type": "code",
   "execution_count": 96,
   "metadata": {
    "collapsed": false
   },
   "outputs": [],
   "source": [
    "x.evolve(np.array([0.1, 1.0, 2.0]), order=2)\n",
    "x.plotx()\n",
    "\n"
   ]
  },
  {
   "cell_type": "code",
   "execution_count": 97,
   "metadata": {
    "collapsed": false
   },
   "outputs": [],
   "source": [
    "x.ploty()"
   ]
  },
  {
   "cell_type": "code",
   "execution_count": 98,
   "metadata": {
    "collapsed": false
   },
   "outputs": [],
   "source": [
    "x.plotz()"
   ]
  },
  {
   "cell_type": "code",
   "execution_count": 99,
   "metadata": {
    "collapsed": false
   },
   "outputs": [],
   "source": [
    "x.plot3d()"
   ]
  },
  {
   "cell_type": "code",
   "execution_count": 100,
   "metadata": {
    "collapsed": false
   },
   "outputs": [],
   "source": [
    "x.evolve(np.array([0.1, 1.0, 2.0]), order=1)\n",
    "x.plotx()"
   ]
  },
  {
   "cell_type": "code",
   "execution_count": 101,
   "metadata": {
    "collapsed": false
   },
   "outputs": [],
   "source": [
    "x.ploty()\n"
   ]
  },
  {
   "cell_type": "code",
   "execution_count": null,
   "metadata": {
    "collapsed": false
   },
   "outputs": [],
   "source": [
    "x.plotz()"
   ]
  },
  {
   "cell_type": "code",
   "execution_count": 104,
   "metadata": {
    "collapsed": false
   },
   "outputs": [],
   "source": [
    "x.plot3d()"
   ]
  },
  {
   "cell_type": "markdown",
   "metadata": {
    "collapsed": true
   },
   "source": [
    "Initial values influence the result. Graphs were changed."
   ]
  }
 ],
 "metadata": {
  "kernelspec": {
   "display_name": "Python 2",
   "language": "python",
   "name": "python2"
  },
  "language_info": {
   "codemirror_mode": {
    "name": "ipython",
    "version": 2
   },
   "file_extension": ".py",
   "mimetype": "text/x-python",
   "name": "python",
   "nbconvert_exporter": "python",
   "pygments_lexer": "ipython2",
   "version": "2.7.9"
  },
  "name": "ExploreAttractor.ipynb"
 },
 "nbformat": 4,
 "nbformat_minor": 0
}
